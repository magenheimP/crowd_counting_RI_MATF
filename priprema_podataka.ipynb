{
  "nbformat": 4,
  "nbformat_minor": 0,
  "metadata": {
    "colab": {
      "provenance": [],
      "gpuType": "T4"
    },
    "kernelspec": {
      "name": "python3",
      "display_name": "Python 3"
    },
    "language_info": {
      "name": "python"
    },
    "accelerator": "GPU"
  },
  "cells": [
    {
      "cell_type": "code",
      "execution_count": 1,
      "metadata": {
        "id": "on1SGnrftFkn"
      },
      "outputs": [],
      "source": [
        "import h5py\n",
        "import scipy.io as io\n",
        "import PIL.Image as Image\n",
        "import os\n",
        "import glob\n",
        "from matplotlib import pyplot as plt\n",
        "from scipy.ndimage import gaussian_filter\n",
        "import scipy\n",
        "import json\n",
        "from matplotlib import cm as CM\n",
        "import torch\n",
        "from torchvision.transforms.functional import gaussian_blur\n",
        "import numpy as np\n",
        "%matplotlib inline"
      ]
    },
    {
      "cell_type": "code",
      "source": [
        "from google.colab import drive\n",
        "drive.mount('/content/drive')"
      ],
      "metadata": {
        "colab": {
          "base_uri": "https://localhost:8080/"
        },
        "id": "26JHUF1yalT1",
        "outputId": "645ba5a5-3274-4489-e343-cc68f2714597"
      },
      "execution_count": 2,
      "outputs": [
        {
          "output_type": "stream",
          "name": "stdout",
          "text": [
            "Mounted at /content/drive\n"
          ]
        }
      ]
    },
    {
      "cell_type": "code",
      "source": [
        "device = torch.device('cuda')"
      ],
      "metadata": {
        "id": "VadUHfxAtqlf"
      },
      "execution_count": 3,
      "outputs": []
    },
    {
      "cell_type": "code",
      "source": [
        "# #this is borrowed from https://github.com/davideverona/deep-crowd-counting_crowdnet\n",
        "# def gaussian_filter_density(gt):\n",
        "#     print (gt.shape)\n",
        "#     density = torch.zeros(gt.shape, device = device, dtype = torch.float)\n",
        "#     gt_count = torch.count_nonzero(gt)\n",
        "#     if gt_count == 0:\n",
        "#         return density\n",
        "\n",
        "#     pts = np.array(list(zip(np.nonzero(gt)[1], np.nonzero(gt)[0])))\n",
        "#     leafsize = 2048\n",
        "#     # build kdtree\n",
        "#     tree = scipy.spatial.KDTree(pts.copy(), leafsize=leafsize)\n",
        "#     # query kdtree\n",
        "#     distances, locations = tree.query(pts, k=4)\n",
        "#     print('distance = ',distances, 'lokacije = ',locations)\n",
        "\n",
        "#     print ('generate density...')\n",
        "#     for i, pt in enumerate(pts):\n",
        "#         pt2d = torch.zeros(gt.shape, dtype=torch.float32,device = device)\n",
        "#         pt2d[pt[1],pt[0]] = 1.\n",
        "#         if gt_count > 1:\n",
        "#             sigma = (distances[i][1]+distances[i][2]+distances[i][3])*0.1\n",
        "#             print(sigma)\n",
        "#         else:\n",
        "#             sigma = np.average(np.array(gt.shape))/2./2. #case: 1 point\n",
        "\n",
        "#         density += GaussianBlur(pt2d, sigma)\n",
        "#     print ('done.')\n",
        "#     return density"
      ],
      "metadata": {
        "id": "E25yK2nztYSk"
      },
      "execution_count": null,
      "outputs": []
    },
    {
      "cell_type": "code",
      "source": [
        "#set the root to the Shanghai dataset you download\n",
        "root = '/content/drive/MyDrive/MATF/Shanghai_data'"
      ],
      "metadata": {
        "id": "bFzifLk1tpP3"
      },
      "execution_count": 4,
      "outputs": []
    },
    {
      "cell_type": "code",
      "source": [
        "#now generate the ShanghaiA's ground truth\n",
        "part_A_train = os.path.join(root,'part_A_final/train_data','images')\n",
        "part_A_test = os.path.join(root,'part_A_final/test_data','images')\n",
        "part_B_train = os.path.join(root,'part_B_final/train_data','images')\n",
        "part_B_test = os.path.join(root,'part_B_final/test_data','images')\n",
        "path_sets = [part_A_train, part_A_test]"
      ],
      "metadata": {
        "id": "E-mmBp-E2w8r"
      },
      "execution_count": 8,
      "outputs": []
    },
    {
      "cell_type": "code",
      "source": [
        "img_paths = []\n",
        "for path in path_sets:\n",
        "    for img_path in glob.glob(os.path.join(path, '*.jpg')):\n",
        "        img_paths.append(img_path)"
      ],
      "metadata": {
        "id": "MkZDLq0ntlBg"
      },
      "execution_count": 9,
      "outputs": []
    },
    {
      "cell_type": "code",
      "source": [
        "size = len(img_paths)\n",
        "for img_path in img_paths:\n",
        "\n",
        "    print (size)\n",
        "    size -= 1\n",
        "\n",
        "    mat = io.loadmat(img_path.replace('.jpg','.mat').replace('images','ground_truth').replace('IMG_','GT_IMG_'))\n",
        "    img= plt.imread(img_path)\n",
        "    k = torch.zeros((img.shape[1],img.shape[0]),device = device)\n",
        "    gt = mat[\"image_info\"][0,0][0,0][0] #ovo je numpy sada\n",
        "    gt2 = gt.copy()\n",
        "    count_removed = 0\n",
        "    for i in range(0,len(gt)):\n",
        "        if int(gt[i][0])<img.shape[0] and int(gt[i][0]) >= 0  and int(gt[i][1])<img.shape[1] and int(gt[i][1]) >= 0:\n",
        "          k[int(gt[i][1]),int(gt[i][0])]=1\n",
        "        else:\n",
        "          gt2 = np.delete(gt2, i - count_removed, 0)\n",
        "          count_removed += 1\n",
        "\n",
        "\n",
        "\n",
        "\n",
        "\n",
        "    # k = gaussian_filter_density(k)\n",
        "\n",
        "    print (k.shape[0],k.shape[1])\n",
        "    density = torch.zeros(k.shape, device = device, dtype = torch.float)\n",
        "    gt_count = len(gt2)\n",
        "    if gt_count == 0:\n",
        "        k = density\n",
        "\n",
        "    else:\n",
        "\n",
        "      # pts = np.array(list(zip(np.nonzero(gt)[1], np.nonzero(gt)[0]))) pts = gt\n",
        "      leafsize = 2048\n",
        "      # build kdtree\n",
        "      tree = scipy.spatial.KDTree(gt2.copy(), leafsize=leafsize)\n",
        "      # query kdtree\n",
        "      distances, locations = tree.query(gt2.copy(), k=4)\n",
        "\n",
        "      print ('generate density...')\n",
        "\n",
        "      for i, pt in enumerate(gt2):\n",
        "          pt2d = torch.zeros(k.shape, dtype=torch.float32, device =device)\n",
        "          pt2d[int(pt[1])-1,int(pt[0])-1] = 1.\n",
        "          if gt_count > 1:\n",
        "              sigma = (distances[i][1]+distances[i][2]+distances[i][3])*0.1\n",
        "          else:\n",
        "              sigma = np.average(np.array(k.shape))/2./2. #case: 1 point zasto?? TODO\n",
        "          matrix4d = pt2d.unsqueeze(0).unsqueeze(0)\n",
        "\n",
        "\n",
        "          kernel_size = 2 * round(3.14 * sigma) + 1\n",
        "          res = gaussian_blur(matrix4d, kernel_size,sigma) #\n",
        "          density += res.squeeze(0).squeeze(0)\n",
        "      print ('done.')\n",
        "      k = density\n",
        "\n",
        "    with h5py.File(img_path.replace('.jpg','.h5').replace('images','ground_truth'), 'w') as hf:\n",
        "            hf['density'] = k.cpu()\n"
      ],
      "metadata": {
        "id": "rOyx0zBJ20oK",
        "colab": {
          "base_uri": "https://localhost:8080/",
          "height": 1000
        },
        "outputId": "1a33047e-410c-4aac-b736-1c530f855c78"
      },
      "execution_count": 10,
      "outputs": [
        {
          "output_type": "stream",
          "name": "stdout",
          "text": [
            "482\n",
            "1024 686\n",
            "generate density...\n",
            "done.\n",
            "481\n",
            "1024 654\n",
            "generate density...\n",
            "done.\n",
            "480\n",
            "1024 683\n",
            "generate density...\n",
            "done.\n",
            "479\n",
            "1024 768\n",
            "generate density...\n",
            "done.\n",
            "478\n",
            "400 400\n",
            "generate density...\n",
            "done.\n",
            "477\n",
            "1024 768\n",
            "generate density...\n",
            "done.\n",
            "476\n",
            "1024 768\n",
            "generate density...\n",
            "done.\n",
            "475\n",
            "1024 498\n",
            "generate density...\n",
            "done.\n",
            "474\n",
            "1024 768\n",
            "generate density...\n",
            "done.\n",
            "473\n",
            "1024 675\n",
            "generate density...\n",
            "done.\n",
            "472\n",
            "540 405\n",
            "generate density...\n",
            "done.\n",
            "471\n",
            "1024 767\n",
            "generate density...\n",
            "done.\n",
            "470\n",
            "1024 681\n",
            "generate density...\n",
            "done.\n",
            "469\n",
            "800 517\n",
            "generate density...\n",
            "done.\n",
            "468\n",
            "990 632\n",
            "generate density...\n",
            "done.\n",
            "467\n",
            "1024 768\n",
            "generate density...\n",
            "done.\n",
            "466\n",
            "1024 680\n",
            "generate density...\n",
            "done.\n",
            "465\n",
            "500 375\n",
            "generate density...\n",
            "done.\n",
            "464\n",
            "1024 683\n",
            "generate density...\n",
            "done.\n",
            "463\n",
            "600 390\n",
            "generate density...\n",
            "done.\n",
            "462\n",
            "998 689\n",
            "generate density...\n",
            "done.\n",
            "461\n",
            "1024 768\n",
            "generate density...\n",
            "done.\n",
            "460\n",
            "1024 576\n",
            "generate density...\n",
            "done.\n",
            "459\n",
            "1024 747\n",
            "generate density...\n",
            "done.\n",
            "458\n",
            "849 565\n",
            "generate density...\n",
            "done.\n",
            "457\n",
            "390 498\n",
            "generate density...\n",
            "done.\n",
            "456\n",
            "561 373\n",
            "generate density...\n",
            "done.\n",
            "455\n",
            "1024 774\n",
            "generate density...\n",
            "done.\n",
            "454\n",
            "1021 611\n",
            "generate density...\n",
            "done.\n",
            "453\n",
            "1024 680\n",
            "generate density...\n",
            "done.\n",
            "452\n",
            "1024 594\n",
            "generate density...\n",
            "done.\n",
            "451\n",
            "1024 327\n",
            "generate density...\n",
            "done.\n",
            "450\n",
            "400 300\n",
            "generate density...\n",
            "done.\n",
            "449\n",
            "640 640\n",
            "generate density...\n",
            "done.\n",
            "448\n",
            "600 800\n",
            "generate density...\n",
            "done.\n",
            "447\n",
            "1024 651\n",
            "generate density...\n",
            "done.\n",
            "446\n",
            "1024 787\n",
            "generate density...\n",
            "done.\n",
            "445\n",
            "840 579\n",
            "generate density...\n",
            "done.\n",
            "444\n",
            "1024 680\n",
            "generate density...\n"
          ]
        },
        {
          "output_type": "error",
          "ename": "KeyboardInterrupt",
          "evalue": "",
          "traceback": [
            "\u001b[0;31m---------------------------------------------------------------------------\u001b[0m",
            "\u001b[0;31mKeyboardInterrupt\u001b[0m                         Traceback (most recent call last)",
            "\u001b[0;32m/tmp/ipython-input-3608539342.py\u001b[0m in \u001b[0;36m<cell line: 0>\u001b[0;34m()\u001b[0m\n\u001b[1;32m     48\u001b[0m           \u001b[0;32melse\u001b[0m\u001b[0;34m:\u001b[0m\u001b[0;34m\u001b[0m\u001b[0;34m\u001b[0m\u001b[0m\n\u001b[1;32m     49\u001b[0m               \u001b[0msigma\u001b[0m \u001b[0;34m=\u001b[0m \u001b[0mnp\u001b[0m\u001b[0;34m.\u001b[0m\u001b[0maverage\u001b[0m\u001b[0;34m(\u001b[0m\u001b[0mnp\u001b[0m\u001b[0;34m.\u001b[0m\u001b[0marray\u001b[0m\u001b[0;34m(\u001b[0m\u001b[0mk\u001b[0m\u001b[0;34m.\u001b[0m\u001b[0mshape\u001b[0m\u001b[0;34m)\u001b[0m\u001b[0;34m)\u001b[0m\u001b[0;34m/\u001b[0m\u001b[0;36m2.\u001b[0m\u001b[0;34m/\u001b[0m\u001b[0;36m2.\u001b[0m \u001b[0;31m#case: 1 point zasto?? TODO\u001b[0m\u001b[0;34m\u001b[0m\u001b[0;34m\u001b[0m\u001b[0m\n\u001b[0;32m---> 50\u001b[0;31m           \u001b[0mmatrix4d\u001b[0m \u001b[0;34m=\u001b[0m \u001b[0mpt2d\u001b[0m\u001b[0;34m.\u001b[0m\u001b[0munsqueeze\u001b[0m\u001b[0;34m(\u001b[0m\u001b[0;36m0\u001b[0m\u001b[0;34m)\u001b[0m\u001b[0;34m.\u001b[0m\u001b[0munsqueeze\u001b[0m\u001b[0;34m(\u001b[0m\u001b[0;36m0\u001b[0m\u001b[0;34m)\u001b[0m\u001b[0;34m\u001b[0m\u001b[0;34m\u001b[0m\u001b[0m\n\u001b[0m\u001b[1;32m     51\u001b[0m \u001b[0;34m\u001b[0m\u001b[0m\n\u001b[1;32m     52\u001b[0m \u001b[0;34m\u001b[0m\u001b[0m\n",
            "\u001b[0;31mKeyboardInterrupt\u001b[0m: "
          ]
        }
      ]
    },
    {
      "cell_type": "code",
      "source": [
        "# ## ovo ovde radi ++ filteri da se pogledaju\n",
        "\n",
        "# img_path = img_paths[45]\n",
        "# mat = io.loadmat(img_path.replace('.jpg','.mat').replace('images','ground_truth').replace('IMG_','GT_IMG_'))\n",
        "# img= plt.imread(img_path)\n",
        "# k = torch.zeros((img.shape[0],img.shape[1]),device = device)\n",
        "# gt = mat[\"image_info\"][0,0][0,0][0] #ovo je numpy sada\n",
        "# gt2 = gt.copy()\n",
        "# count_removed = 0\n",
        "# for i in range(0,len(gt)):\n",
        "#     if int(gt[i][0])<=k.shape[1]  and int(gt[i][1])<=k.shape[0]: #and int(gt[i][1]) >= 0 and int(gt[i][0]) >= 0:\n",
        "#       k[int(gt[i][1]),int(gt[i][0])]=1\n",
        "#     else:\n",
        "#       gt2 = np.delete(gt2, i - count_removed, 0)\n",
        "#       count_removed += 1\n",
        "\n",
        "\n",
        "\n",
        "\n",
        "\n",
        "# # k = gaussian_filter_density(k)\n",
        "\n",
        "\n",
        "# k = torch.tensor([[1, 1, 1, 0, 0, 0],\n",
        "#               [1, 1, 1, 0, 0, 0],\n",
        "#               [1, 1, 1, 0, 0, 0],\n",
        "#               [0, 0, 0, 1, 1, 1],\n",
        "#               [0, 0, 0, 0, 0, 0]], dtype= torch.float32)\n",
        "\n",
        "\n",
        "# # print (k.shape[0],k.shape[1])\n",
        "# # density = torch.zeros(k.shape, device = device, dtype = torch.float)\n",
        "# # gt_count = len(gt2)\n",
        "# # if gt_count == 0:\n",
        "# #     k = density\n",
        "\n",
        "\n",
        "# # else:\n",
        "\n",
        "#   # pts = np.array(list(zip(np.nonzero(gt)[1], np.nonzero(gt)[0]))) pts = gt\n",
        "#   leafsize = 2048\n",
        "#   # build kdtree\n",
        "#   tree = scipy.spatial.KDTree(gt2.copy(), leafsize=leafsize)\n",
        "#   # query kdtree\n",
        "#   distances, locations = tree.query(gt2.copy(), k=4)\n",
        "\n",
        "#   print ('generate density...')\n",
        "\n",
        "#   for i, pt in enumerate(gt2):\n",
        "#       pt2d = torch.zeros(k.shape, dtype=torch.float32, device =device)\n",
        "#       pt2d[int(pt[1])-1,int(pt[0])-1] = 1.\n",
        "#       if gt_count > 1:\n",
        "#           sigma = (distances[i][1]+distances[i][2]+distances[i][3])*0.1\n",
        "#       else:\n",
        "#           sigma = np.average(np.array(k.shape))/2./2. #case: 1 point zasto?? TODO\n",
        "#       matrix4d = pt2d.unsqueeze(0).unsqueeze(0)\n",
        "\n",
        "#       print('sigma ', sigma)\n",
        "#       res = gaussian_blur(matrix4d, (31,31), (sigma, sigma)) #\n",
        "#       density += res.squeeze(0).squeeze(0)\n",
        "#   print ('done.')\n",
        "#   k = density\n",
        "\n",
        "# # with h5py.File(img_path.replace('.jpg','.h5').replace('images','ground_truth'), 'w') as hf:\n",
        "# #         hf['density'] = k.cpu()\n",
        "# #         plt.imshow(k.cpu())\n",
        "\n",
        "\n"
      ],
      "metadata": {
        "id": "p5VCoXOL2l2r"
      },
      "execution_count": null,
      "outputs": []
    },
    {
      "cell_type": "code",
      "source": [
        "plt.gca().invert_yaxis()\n",
        "plt.scatter(gt[:,0], gt[:,1])\n",
        "len(gt)"
      ],
      "metadata": {
        "colab": {
          "base_uri": "https://localhost:8080/",
          "height": 447
        },
        "id": "otFE7Z56_fb3",
        "outputId": "9e17e638-01f3-40f6-db29-6c1e2e528464"
      },
      "execution_count": null,
      "outputs": [
        {
          "output_type": "execute_result",
          "data": {
            "text/plain": [
              "50"
            ]
          },
          "metadata": {},
          "execution_count": 84
        },
        {
          "output_type": "display_data",
          "data": {
            "text/plain": [
              "<Figure size 640x480 with 1 Axes>"
            ],
            "image/png": "[encoded data removed]"
          },
          "metadata": {}
        }
      ]
    },
    {
      "cell_type": "code",
      "source": [
        "img_path = img_paths[45]\n",
        "img= plt.imread(img_path)\n",
        "plt.imshow(img)"
      ],
      "metadata": {
        "id": "NAdDpDldodWL"
      },
      "execution_count": null,
      "outputs": []
    },
    {
      "cell_type": "code",
      "source": [
        "gt_file = h5py.File(img_paths[45].replace('.jpg','.h5').replace('images','ground_truth'),'r')\n",
        "groundtruth = np.asarray(gt_file['density'])\n",
        "plt.imshow(groundtruth,cmap=CM.jet)\n",
        "np.sum(groundtruth)"
      ],
      "metadata": {
        "colab": {
          "base_uri": "https://localhost:8080/",
          "height": 452
        },
        "id": "ioHde1PxfCdt",
        "outputId": "db45846f-ede6-422b-f43b-42c9a5e8ab6e"
      },
      "execution_count": null,
      "outputs": [
        {
          "output_type": "execute_result",
          "data": {
            "text/plain": [
              "<matplotlib.image.AxesImage at 0x7f2bfa5152d0>"
            ]
          },
          "metadata": {},
          "execution_count": 91
        },
        {
          "output_type": "display_data",
          "data": {
            "text/plain": [
              "<Figure size 640x480 with 1 Axes>"
            ],
            "image/png": "[encoded data removed]"
          },
          "metadata": {}
        }
      ]
    }
  ]
}